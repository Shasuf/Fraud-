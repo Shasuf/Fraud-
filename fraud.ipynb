{
  "cells": [
    {
      "cell_type": "markdown",
      "metadata": {
        "id": "view-in-github",
        "colab_type": "text"
      },
      "source": [
        "<a href=\"https://colab.research.google.com/github/Shasuf/Fraud-/blob/main/fraud.ipynb\" target=\"_parent\"><img src=\"https://colab.research.google.com/assets/colab-badge.svg\" alt=\"Open In Colab\"/></a>"
      ]
    },
    {
      "cell_type": "code",
      "execution_count": null,
      "metadata": {
        "colab": {
          "base_uri": "https://localhost:8080/"
        },
        "id": "-rGZU6MJiNMx",
        "outputId": "29eef815-1ee9-49d9-d28f-906458cd5932"
      },
      "outputs": [
        {
          "name": "stdout",
          "output_type": "stream",
          "text": [
            "\n",
            "*** Import Libraries ***\n",
            "Done ...\n"
          ]
        }
      ],
      "source": [
        "# import libraries\n",
        "print(\"\\n*** Import Libraries ***\")\n",
        "# hides all warnings\n",
        "import warnings\n",
        "warnings.filterwarnings('ignore')\n",
        "# pandas \n",
        "import pandas as pd\n",
        "# numpy\n",
        "import numpy as np\n",
        "# matplotlib \n",
        "import matplotlib.pyplot as plt\n",
        "#%matplotlib inline\n",
        "plt.style.use('ggplot')\n",
        "plt.rcParams['figure.figsize'] = (10, 5)\n",
        "# sns\n",
        "import seaborn as sns\n",
        "print(\"Done ...\")\n"
      ]
    },
    {
      "cell_type": "code",
      "execution_count": null,
      "metadata": {
        "colab": {
          "base_uri": "https://localhost:8080/"
        },
        "id": "4zPj0KDkYmwe",
        "outputId": "c820ad66-563e-49af-dcb1-25fb50d26187"
      },
      "outputs": [
        {
          "name": "stdout",
          "output_type": "stream",
          "text": [
            "\n",
            "*** Import Utils ***\n",
            "Mounted at /content/gdrive\n",
            "Done ...\n"
          ]
        }
      ],
      "source": [
        "# import utils stored in g-drive / My Drive  / Collab Notebooks\n",
        "print(\"\\n*** Import Utils ***\")\n",
        "import sys\n",
        "from google.colab import drive\n",
        "drive.mount('/content/gdrive')\n",
        "# To add a directory with your code into a list of directories \n",
        "# which will be searched for packages\n",
        "sys.path.append('/content/gdrive/My Drive/Colab Notebooks')\n",
        "import utils\n",
        "print(\"Done ...\")\n",
        "\n",
        "##############################################"
      ]
    },
    {
      "cell_type": "code",
      "execution_count": null,
      "metadata": {
        "colab": {
          "base_uri": "https://localhost:8080/"
        },
        "id": "AYABA8zUY1VS",
        "outputId": "877c9aad-22c4-4dd5-d295-aaa63380265a"
      },
      "outputs": [
        {
          "name": "stdout",
          "output_type": "stream",
          "text": [
            "\n",
            "*** Read Data ***\n",
            "Done ...\n"
          ]
        }
      ],
      "source": [
        "# Read Data \n",
        "##############################################################\n",
        "\n",
        "# read dataset\n",
        "print(\"\\n*** Read Data ***\")\n",
        "vFileName = '/content/gdrive/My Drive/Colab Notebooks/data/Fraud.csv'\n",
        "df = pd.read_csv(vFileName)\n",
        "print(\"Done ...\")\n"
      ]
    },
    {
      "cell_type": "code",
      "execution_count": null,
      "metadata": {
        "colab": {
          "base_uri": "https://localhost:8080/"
        },
        "id": "Hu-Pcic6sx-8",
        "outputId": "cea68f16-18a3-4f66-a609-97db52906954"
      },
      "outputs": [
        {
          "name": "stdout",
          "output_type": "stream",
          "text": [
            "\n",
            "*** Rows & Cols ***\n",
            "Rows 6362620\n",
            "Cols 11\n"
          ]
        }
      ],
      "source": [
        "\n",
        "##############################################################\n",
        "# Exploratory Data Analysis\n",
        "##############################################################\n",
        "\n",
        "# rows & cols\n",
        "print(\"\\n*** Rows & Cols ***\")\n",
        "print(\"Rows\",df.shape[0])\n",
        "print(\"Cols\",df.shape[1])"
      ]
    },
    {
      "cell_type": "code",
      "execution_count": null,
      "metadata": {
        "colab": {
          "base_uri": "https://localhost:8080/"
        },
        "id": "yPqdrDwms5Ex",
        "outputId": "b71500cc-4f66-4da6-d72f-116d68d098b1"
      },
      "outputs": [
        {
          "name": "stdout",
          "output_type": "stream",
          "text": [
            "\n",
            "*** Column Names ***\n",
            "Index(['step', 'type', 'amount', 'nameOrig', 'oldbalanceOrg', 'newbalanceOrig',\n",
            "       'nameDest', 'oldbalanceDest', 'newbalanceDest', 'isFraud',\n",
            "       'isFlaggedFraud'],\n",
            "      dtype='object')\n"
          ]
        }
      ],
      "source": [
        "# columns\n",
        "print(\"\\n*** Column Names ***\")\n",
        "print(df.columns)"
      ]
    },
    {
      "cell_type": "code",
      "execution_count": null,
      "metadata": {
        "colab": {
          "base_uri": "https://localhost:8080/"
        },
        "id": "aVUF03KEtCCM",
        "outputId": "ed2f82f2-38a5-4cd0-c181-4ec45231680f"
      },
      "outputs": [
        {
          "name": "stdout",
          "output_type": "stream",
          "text": [
            "\n",
            "*** Structure ***\n",
            "<class 'pandas.core.frame.DataFrame'>\n",
            "RangeIndex: 6362620 entries, 0 to 6362619\n",
            "Data columns (total 11 columns):\n",
            " #   Column          Dtype  \n",
            "---  ------          -----  \n",
            " 0   step            int64  \n",
            " 1   type            object \n",
            " 2   amount          float64\n",
            " 3   nameOrig        object \n",
            " 4   oldbalanceOrg   float64\n",
            " 5   newbalanceOrig  float64\n",
            " 6   nameDest        object \n",
            " 7   oldbalanceDest  float64\n",
            " 8   newbalanceDest  float64\n",
            " 9   isFraud         int64  \n",
            " 10  isFlaggedFraud  int64  \n",
            "dtypes: float64(5), int64(3), object(3)\n",
            "memory usage: 534.0+ MB\n",
            "None\n"
          ]
        }
      ],
      "source": [
        "# info\n",
        "print(\"\\n*** Structure ***\")\n",
        "print(df.info())"
      ]
    },
    {
      "cell_type": "code",
      "execution_count": null,
      "metadata": {
        "colab": {
          "base_uri": "https://localhost:8080/"
        },
        "id": "Ty3jBHb4tCEP",
        "outputId": "c266f298-1482-4a4d-fa30-dbfa24869185"
      },
      "outputs": [
        {
          "name": "stdout",
          "output_type": "stream",
          "text": [
            "\n",
            "*** Data Types ***\n",
            "step                int64\n",
            "type               object\n",
            "amount            float64\n",
            "nameOrig           object\n",
            "oldbalanceOrg     float64\n",
            "newbalanceOrig    float64\n",
            "nameDest           object\n",
            "oldbalanceDest    float64\n",
            "newbalanceDest    float64\n",
            "isFraud             int64\n",
            "isFlaggedFraud      int64\n",
            "dtype: object\n"
          ]
        }
      ],
      "source": [
        "# data types\n",
        "print(\"\\n*** Data Types ***\")\n",
        "print(df.dtypes)\n"
      ]
    },
    {
      "cell_type": "code",
      "execution_count": null,
      "metadata": {
        "colab": {
          "base_uri": "https://localhost:8080/"
        },
        "id": "hQnF013xtGe0",
        "outputId": "74f7cde2-fdec-4ee8-df7d-a8b0bc562ea3"
      },
      "outputs": [
        {
          "name": "stdout",
          "output_type": "stream",
          "text": [
            "\n",
            "*** Unique Values ***\n",
            "step                  743\n",
            "type                    5\n",
            "amount            5316900\n",
            "nameOrig          6353307\n",
            "oldbalanceOrg     1845844\n",
            "newbalanceOrig    2682586\n",
            "nameDest          2722362\n",
            "oldbalanceDest    3614697\n",
            "newbalanceDest    3555499\n",
            "isFraud                 2\n",
            "isFlaggedFraud          2\n",
            "dtype: int64\n"
          ]
        }
      ],
      "source": [
        "# data types\n",
        "print(\"\\n*** Unique Values ***\")\n",
        "print(df.apply(lambda x: x.nunique()))\n"
      ]
    },
    {
      "cell_type": "code",
      "execution_count": null,
      "metadata": {
        "colab": {
          "base_uri": "https://localhost:8080/"
        },
        "id": "PNBM8HnStGhp",
        "outputId": "16699ecd-4590-48aa-d44a-8fc16bbcd830"
      },
      "outputs": [
        {
          "name": "stdout",
          "output_type": "stream",
          "text": [
            "\n",
            "*** Summary ***\n",
            "               step        amount  oldbalanceOrg  newbalanceOrig  \\\n",
            "count  6.362620e+06  6.362620e+06   6.362620e+06    6.362620e+06   \n",
            "mean   2.433972e+02  1.798619e+05   8.338831e+05    8.551137e+05   \n",
            "std    1.423320e+02  6.038582e+05   2.888243e+06    2.924049e+06   \n",
            "min    1.000000e+00  0.000000e+00   0.000000e+00    0.000000e+00   \n",
            "25%    1.560000e+02  1.338957e+04   0.000000e+00    0.000000e+00   \n",
            "50%    2.390000e+02  7.487194e+04   1.420800e+04    0.000000e+00   \n",
            "75%    3.350000e+02  2.087215e+05   1.073152e+05    1.442584e+05   \n",
            "max    7.430000e+02  9.244552e+07   5.958504e+07    4.958504e+07   \n",
            "\n",
            "       oldbalanceDest  newbalanceDest       isFraud  isFlaggedFraud  \n",
            "count    6.362620e+06    6.362620e+06  6.362620e+06    6.362620e+06  \n",
            "mean     1.100702e+06    1.224996e+06  1.290820e-03    2.514687e-06  \n",
            "std      3.399180e+06    3.674129e+06  3.590480e-02    1.585775e-03  \n",
            "min      0.000000e+00    0.000000e+00  0.000000e+00    0.000000e+00  \n",
            "25%      0.000000e+00    0.000000e+00  0.000000e+00    0.000000e+00  \n",
            "50%      1.327057e+05    2.146614e+05  0.000000e+00    0.000000e+00  \n",
            "75%      9.430367e+05    1.111909e+06  0.000000e+00    0.000000e+00  \n",
            "max      3.560159e+08    3.561793e+08  1.000000e+00    1.000000e+00  \n",
            "            type     nameOrig     nameDest\n",
            "count    6362620      6362620      6362620\n",
            "unique         5      6353307      2722362\n",
            "top     CASH_OUT  C1902386530  C1286084959\n",
            "freq     2237500            3          113\n"
          ]
        }
      ],
      "source": [
        "# summary\n",
        "print(\"\\n*** Summary ***\")\n",
        "print(df.describe(include=np.number))\n",
        "print(df.describe(include=np.object))"
      ]
    },
    {
      "cell_type": "code",
      "execution_count": null,
      "metadata": {
        "colab": {
          "base_uri": "https://localhost:8080/"
        },
        "id": "z2euTIuwtS1O",
        "outputId": "388fd75a-6f2f-428d-a826-acdbf265e38f"
      },
      "outputs": [
        {
          "name": "stdout",
          "output_type": "stream",
          "text": [
            "\n",
            "*** Head ***\n",
            "   step      type    amount     nameOrig  oldbalanceOrg  newbalanceOrig  \\\n",
            "0     1   PAYMENT   9839.64  C1231006815       170136.0       160296.36   \n",
            "1     1   PAYMENT   1864.28  C1666544295        21249.0        19384.72   \n",
            "2     1  TRANSFER    181.00  C1305486145          181.0            0.00   \n",
            "3     1  CASH_OUT    181.00   C840083671          181.0            0.00   \n",
            "4     1   PAYMENT  11668.14  C2048537720        41554.0        29885.86   \n",
            "\n",
            "      nameDest  oldbalanceDest  newbalanceDest  isFraud  isFlaggedFraud  \n",
            "0  M1979787155             0.0             0.0        0               0  \n",
            "1  M2044282225             0.0             0.0        0               0  \n",
            "2   C553264065             0.0             0.0        1               0  \n",
            "3    C38997010         21182.0             0.0        1               0  \n",
            "4  M1230701703             0.0             0.0        0               0  \n"
          ]
        }
      ],
      "source": [
        "# head\n",
        "print(\"\\n*** Head ***\")\n",
        "print(df.head())"
      ]
    },
    {
      "cell_type": "code",
      "execution_count": null,
      "metadata": {
        "colab": {
          "base_uri": "https://localhost:8080/"
        },
        "id": "Rwf4WGiXtS4B",
        "outputId": "a15d17ee-f0e8-4492-ef29-a30af7b78bbc"
      },
      "outputs": [
        {
          "name": "stdout",
          "output_type": "stream",
          "text": [
            "\n",
            "*** Class Vars ***\n",
            "isFraud\n"
          ]
        }
      ],
      "source": [
        "\n",
        "##############################################################\n",
        "# Class Variable & Counts\n",
        "##############################################################\n",
        "\n",
        "# store class variable  \n",
        "# change as required\n",
        "clsVars = \"isFraud\"\n",
        "print(\"\\n*** Class Vars ***\")\n",
        "print(clsVars)"
      ]
    },
    {
      "cell_type": "code",
      "execution_count": null,
      "metadata": {
        "colab": {
          "base_uri": "https://localhost:8080/"
        },
        "id": "_JT1VKj8tS65",
        "outputId": "a0ca4525-4d32-4634-94c7-0c2ffcbec924"
      },
      "outputs": [
        {
          "name": "stdout",
          "output_type": "stream",
          "text": [
            "\n",
            "*** Counts ***\n",
            "isFraud\n",
            "0    6354407\n",
            "1       8213\n",
            "dtype: int64\n"
          ]
        }
      ],
      "source": [
        "# counts\n",
        "print(\"\\n*** Counts ***\")\n",
        "print(df.groupby(df[clsVars]).size())"
      ]
    },
    {
      "cell_type": "code",
      "execution_count": null,
      "metadata": {
        "colab": {
          "base_uri": "https://localhost:8080/"
        },
        "id": "PO7JnhXytTC9",
        "outputId": "fa8c3267-567f-430b-ea0c-063e138f7865"
      },
      "outputs": [
        {
          "name": "stdout",
          "output_type": "stream",
          "text": [
            "\n",
            "*** Transformations ***\n",
            "Done ...\n"
          ]
        }
      ],
      "source": [
        "# transformations - convert object to float\n",
        "# change as required\n",
        "# convert string / categoric to numeric\n",
        "# transformations\n",
        "# change as required\n",
        "print(\"\\n*** Transformations ***\")\n",
        "lstLabels = ['type']\n",
        "for label in lstLabels: \n",
        "    df[label] = pd.Categorical(df[label])\n",
        "    df[label] = df[label].cat.codes\n",
        "print(\"Done ...\")\n"
      ]
    },
    {
      "cell_type": "code",
      "execution_count": null,
      "metadata": {
        "colab": {
          "base_uri": "https://localhost:8080/"
        },
        "id": "oZgvqDfatTF1",
        "outputId": "f64866c0-8b2c-4773-ece1-75a94b3b4ca4"
      },
      "outputs": [
        {
          "name": "stdout",
          "output_type": "stream",
          "text": [
            "\n",
            "*** Outlier Count ***\n",
            "step                   0\n",
            "type                   0\n",
            "amount            174085\n",
            "oldbalanceOrg     929807\n",
            "newbalanceOrig    864681\n",
            "oldbalanceDest    474998\n",
            "newbalanceDest    425660\n",
            "isFraud             8213\n",
            "isFlaggedFraud        16\n",
            "dtype: int64\n"
          ]
        }
      ],
      "source": [
        "# check outlier count\n",
        "print('\\n*** Outlier Count ***')\n",
        "print(utils.OutlierCount(df))"
      ]
    },
    {
      "cell_type": "code",
      "execution_count": null,
      "metadata": {
        "colab": {
          "base_uri": "https://localhost:8080/"
        },
        "id": "m8hd8BQgt8Xh",
        "outputId": "3c7fa7bd-c5a5-40fd-e132-c32173bc0374"
      },
      "outputs": [
        {
          "name": "stdout",
          "output_type": "stream",
          "text": [
            "\n",
            "*** Outlier Values ***\n",
            "step                                                             []\n",
            "type                                                             []\n",
            "amount            [1505626.01 1429051.47 1724887.05 ... 6311409....\n",
            "oldbalanceOrg     [ 503264.    882770.    874042.26 ... 6311409....\n",
            "newbalanceOrig    [  874042.26   871442.79  6309146.87 ... 15674...\n",
            "oldbalanceDest    [5195482.15 5776776.41 5862200.03 ... 5524872....\n",
            "newbalanceDest    [ 6453430.91 19169204.93  5515763.34 ...  5238...\n",
            "isFraud                                           [1 1 1 ... 1 1 1]\n",
            "isFlaggedFraud                    [1 1 1 1 1 1 1 1 1 1 1 1 1 1 1 1]\n",
            "dtype: object\n"
          ]
        }
      ],
      "source": [
        "# check outlier values\n",
        "print('\\n*** Outlier Values ***')\n",
        "print(utils.OutlierValues(df))"
      ]
    },
    {
      "cell_type": "code",
      "execution_count": null,
      "metadata": {
        "colab": {
          "base_uri": "https://localhost:8080/"
        },
        "id": "QPcAoS2ZuaGZ",
        "outputId": "ad3f76bd-027e-4507-bd80-d92242b46629"
      },
      "outputs": [
        {
          "name": "stdout",
          "output_type": "stream",
          "text": [
            "\n",
            "*** Drop Cols ***\n",
            "Done ...\n"
          ]
        }
      ],
      "source": [
        "print(\"\\n*** Drop Cols ***\")\n",
        "dfa = df[['nameOrig', 'nameDest']]                \n",
        "df = df.drop('nameOrig', axis=1)\n",
        "df = df.drop('nameDest', axis=1)\n",
        "print(\"Done ...\")"
      ]
    },
    {
      "cell_type": "code",
      "execution_count": null,
      "metadata": {
        "colab": {
          "base_uri": "https://localhost:8080/"
        },
        "id": "UNWeNwd_t8fE",
        "outputId": "207e19d6-9347-4054-ee14-62c12569feaf"
      },
      "outputs": [
        {
          "name": "stdout",
          "output_type": "stream",
          "text": [
            "\n",
            "*** Handle Outliers ***\n",
            "Done ...\n"
          ]
        }
      ],
      "source": [
        "# # handle outliers if required\n",
        "print('\\n*** Handle Outliers ***')\n",
        "df = utils.HandleOutliers(df, clsVars)\n",
        "print(\"Done ...\")\n"
      ]
    },
    {
      "cell_type": "code",
      "execution_count": null,
      "metadata": {
        "colab": {
          "base_uri": "https://localhost:8080/"
        },
        "id": "5HTaULPbulqv",
        "outputId": "3a74b7f4-cd6a-4068-cc39-defdb7aa272c"
      },
      "outputs": [
        {
          "name": "stdout",
          "output_type": "stream",
          "text": [
            "\n",
            "*** Columns With Zeros ***\n",
            "step                    0\n",
            "type              1399284\n",
            "amount                 16\n",
            "oldbalanceOrg     2102449\n",
            "newbalanceOrig    3609566\n",
            "oldbalanceDest    2704388\n",
            "newbalanceDest    2439433\n",
            "isFraud           6354407\n",
            "isFlaggedFraud    6362620\n",
            "dtype: int64\n"
          ]
        }
      ],
      "source": [
        "# check zeros\n",
        "print('\\n*** Columns With Zeros ***')\n",
        "print((df==0).sum())\n"
      ]
    },
    {
      "cell_type": "code",
      "execution_count": null,
      "metadata": {
        "colab": {
          "base_uri": "https://localhost:8080/"
        },
        "id": "khWE9bSrultl",
        "outputId": "701a4ef2-cd95-4cdb-d3b2-f6107e93022e"
      },
      "outputs": [
        {
          "name": "stdout",
          "output_type": "stream",
          "text": [
            "\n",
            "*** Handle Zeros ***\n",
            "Done ...\n"
          ]
        }
      ],
      "source": [
        "# # handle zeros if required\n",
        "print('\\n*** Handle Zeros ***')\n",
        "df = utils.HandleZeros(df, clsVars)\n",
        "print(\"Done ...\")\n"
      ]
    },
    {
      "cell_type": "code",
      "execution_count": null,
      "metadata": {
        "colab": {
          "base_uri": "https://localhost:8080/"
        },
        "id": "9iXwIn_mulwb",
        "outputId": "8a24b4b7-39ea-4010-f719-f00e28550758"
      },
      "outputs": [
        {
          "name": "stdout",
          "output_type": "stream",
          "text": [
            "\n",
            "*** Same Value Cols Drop ***\n",
            "[]\n",
            "Done ...\n"
          ]
        }
      ],
      "source": [
        "# drop col if all values are same\n",
        "print(\"\\n*** Same Value Cols Drop ***\")\n",
        "lDropCols = utils.SameValuesCols(df, clsVars)\n",
        "print(lDropCols)\n",
        "if lDropCols != []:\n",
        "    df = df.drop(lDropCols, axis=1)\n",
        "print(\"Done ...\")"
      ]
    },
    {
      "cell_type": "code",
      "execution_count": null,
      "metadata": {
        "colab": {
          "base_uri": "https://localhost:8080/"
        },
        "id": "AWLKE0Wkulyz",
        "outputId": "0876de97-fd23-4bf6-916f-60bb9ea477f2"
      },
      "outputs": [
        {
          "name": "stdout",
          "output_type": "stream",
          "text": [
            "\n",
            "*** Null Value Cols Drop ***\n",
            "['newbalanceOrig', 'isFlaggedFraud']\n",
            "Done ...\n"
          ]
        }
      ],
      "source": [
        "# drop col if more than 50% null values\n",
        "print(\"\\n*** Null Value Cols Drop ***\")\n",
        "lDropCols = utils.NullValuesCols(df, clsVars, 0.50)\n",
        "print(lDropCols)\n",
        "if lDropCols != []:\n",
        "    df = df.drop(lDropCols, axis=1)\n",
        "print(\"Done ...\")"
      ]
    },
    {
      "cell_type": "code",
      "execution_count": null,
      "metadata": {
        "colab": {
          "base_uri": "https://localhost:8080/"
        },
        "id": "tRB5dxQYul1J",
        "outputId": "83c6160c-b78c-4634-98af-22733d533872"
      },
      "outputs": [
        {
          "name": "stdout",
          "output_type": "stream",
          "text": [
            "\n",
            "*** Columns With Nulls ***\n",
            "step                    0\n",
            "type              1399284\n",
            "amount                 16\n",
            "oldbalanceOrg     2102449\n",
            "oldbalanceDest    2704388\n",
            "newbalanceDest    2439433\n",
            "isFraud                 0\n",
            "dtype: int64\n"
          ]
        }
      ],
      "source": [
        "# check nulls\n",
        "print('\\n*** Columns With Nulls ***')\n",
        "print(df.isnull().sum()) "
      ]
    },
    {
      "cell_type": "code",
      "execution_count": null,
      "metadata": {
        "colab": {
          "base_uri": "https://localhost:8080/"
        },
        "id": "R1fBmDtRul3B",
        "outputId": "18cb2996-882d-4f86-ef7d-da0aedfd3cc8"
      },
      "outputs": [
        {
          "name": "stdout",
          "output_type": "stream",
          "text": [
            "\n",
            "*** Handle Nulls ***\n",
            "Done ...\n"
          ]
        }
      ],
      "source": [
        "\n",
        "# # handle nulls if required\n",
        "print('\\n*** Handle Nulls ***')\n",
        "df = utils.HandleNullsWithMean(df, clsVars)\n",
        "print(\"Done ...\")"
      ]
    },
    {
      "cell_type": "code",
      "execution_count": null,
      "metadata": {
        "colab": {
          "base_uri": "https://localhost:8080/"
        },
        "id": "GLk-dSaGul5T",
        "outputId": "1b677233-2b5f-43a9-ccdb-ca4a2ab190b6"
      },
      "outputs": [
        {
          "name": "stdout",
          "output_type": "stream",
          "text": [
            "\n",
            "*** StdDev In Columns ***\n",
            "step              1.423320e+02\n",
            "type              9.972132e-01\n",
            "amount            1.790802e+05\n",
            "oldbalanceOrg     1.382939e+05\n",
            "oldbalanceDest    9.671994e+05\n",
            "newbalanceDest    1.132816e+06\n",
            "isFraud           3.590480e-02\n",
            "dtype: float64\n"
          ]
        }
      ],
      "source": [
        "# check std dev \n",
        "print('\\n*** StdDev In Columns ***')\n",
        "print(df.std())\n"
      ]
    },
    {
      "cell_type": "code",
      "execution_count": null,
      "metadata": {
        "colab": {
          "base_uri": "https://localhost:8080/"
        },
        "id": "HQbhcI8gul7Y",
        "outputId": "24023106-def2-4437-9d10-c7e3fa357a46"
      },
      "outputs": [
        {
          "name": "stdout",
          "output_type": "stream",
          "text": [
            "\n",
            "*** Normalize Data ***\n",
            "Done ...\n"
          ]
        }
      ],
      "source": [
        "# # handle normalization if required\n",
        "print('\\n*** Normalize Data ***')\n",
        "df = utils.NormalizeData(df, clsVars)\n",
        "print('Done ...')\n"
      ]
    },
    {
      "cell_type": "code",
      "execution_count": null,
      "metadata": {
        "colab": {
          "base_uri": "https://localhost:8080/"
        },
        "id": "2Tl3wHf_ul_B",
        "outputId": "63662cc2-f579-43ac-8c92-2cd57f48abc2"
      },
      "outputs": [
        {
          "name": "stdout",
          "output_type": "stream",
          "text": [
            "\n",
            "*** Feature Scores - XTC ***\n",
            "             Cols       Imp\n",
            "5  newbalanceDest  0.240896\n",
            "2          amount  0.195077\n",
            "3   oldbalanceOrg  0.192340\n",
            "0            step  0.141833\n",
            "4  oldbalanceDest  0.136043\n",
            "1            type  0.093811\n"
          ]
        }
      ],
      "source": [
        "# feature selection\n",
        "print(\"\\n*** Feature Scores - XTC ***\")\n",
        "print(utils.getFeatureScoresXTC(df, clsVars))"
      ]
    },
    {
      "cell_type": "code",
      "execution_count": null,
      "metadata": {
        "colab": {
          "base_uri": "https://localhost:8080/"
        },
        "id": "z-V36Uy5umCd",
        "outputId": "9933e734-fe84-4a13-fbf9-b17c839f7d14"
      },
      "outputs": [
        {
          "name": "stdout",
          "output_type": "stream",
          "text": [
            "             Cols           Imp\n",
            "2          amount  24468.157605\n",
            "3   oldbalanceOrg   9254.520770\n",
            "0            step   6350.771614\n",
            "1            type    739.992409\n",
            "5  newbalanceDest    170.860150\n",
            "4  oldbalanceDest     87.876315\n"
          ]
        }
      ],
      "source": [
        "# print(\"\\n*** Feature Scores - SKB ***\")\n",
        "print(utils.getFeatureScoresSKB(df, clsVars))"
      ]
    },
    {
      "cell_type": "code",
      "execution_count": null,
      "metadata": {
        "colab": {
          "base_uri": "https://localhost:8080/"
        },
        "id": "THGR8MUIumFR",
        "outputId": "a1e36340-f3a3-4d0d-b683-40ce89ef93ca"
      },
      "outputs": [
        {
          "name": "stdout",
          "output_type": "stream",
          "text": [
            "\n",
            "*** Features To Drop ***\n",
            "   index            Cols      ImpX  RankX          ImpY  RankY  Rank\n",
            "0      4  oldbalanceDest  0.136043      5     87.876315      6    11\n",
            "1      5            type  0.093811      6    739.992409      4    10\n",
            "2      3            step  0.141833      4   6350.771614      3     7\n",
            "3      0  newbalanceDest  0.240896      1    170.860150      5     6\n",
            "4      2   oldbalanceOrg  0.192340      3   9254.520770      2     5\n",
            "5      1          amount  0.195077      2  24468.157605      1     3\n",
            "['oldbalanceDest']\n",
            "Done ...\n"
          ]
        }
      ],
      "source": [
        "# select feature to drop \n",
        "print(\"\\n*** Features To Drop ***\")\n",
        "lDropCols = utils.DropFeaturesRank(df, clsVars, 1)\n",
        "print(lDropCols)\n",
        "if lDropCols != []:\n",
        "    df = df.drop(lDropCols, axis=1)\n",
        "print(\"Done ...\")"
      ]
    },
    {
      "cell_type": "code",
      "execution_count": null,
      "metadata": {
        "colab": {
          "base_uri": "https://localhost:8080/",
          "height": 1000
        },
        "id": "agjkd6n_umJe",
        "outputId": "9fd1526c-26d2-4532-958a-79160ec723ef"
      },
      "outputs": [
        {
          "name": "stdout",
          "output_type": "stream",
          "text": [
            "\n",
            "*** Boxplot ***\n"
          ]
        },
        {
          "data": {
            "image/png": "[encoded data removed]",
            "text/plain": [
              "<Figure size 432x288 with 1 Axes>"
            ]
          },
          "metadata": {},
          "output_type": "display_data"
        },
        {
          "data": {
            "image/png": "[encoded data removed]",
            "text/plain": [
              "<Figure size 432x288 with 1 Axes>"
            ]
          },
          "metadata": {},
          "output_type": "display_data"
        },
        {
          "data": {
            "image/png": "[encoded data removed]",
            "text/plain": [
              "<Figure size 432x288 with 1 Axes>"
            ]
          },
          "metadata": {},
          "output_type": "display_data"
        },
        {
          "data": {
            "image/png": "[encoded data removed]",
            "text/plain": [
              "<Figure size 432x288 with 1 Axes>"
            ]
          },
          "metadata": {},
          "output_type": "display_data"
        },
        {
          "data": {
            "image/png": "[encoded data removed]",
            "text/plain": [
              "<Figure size 432x288 with 1 Axes>"
            ]
          },
          "metadata": {},
          "output_type": "display_data"
        }
      ],
      "source": [
        "\n",
        "##############################################################\n",
        "# Visual Data Anlytics\n",
        "##############################################################\n",
        "\n",
        "# boxplot\n",
        "print('\\n*** Boxplot ***')\n",
        "colNames = df.columns.tolist()\n",
        "colNames.remove(clsVars)\n",
        "for colName in colNames:\n",
        "    plt.figure()\n",
        "    sns.boxplot(y=df[colName], color='b')\n",
        "    plt.title(colName)\n",
        "    plt.ylabel(colName)\n",
        "    plt.xlabel('Bins')\n",
        "    plt.show()\n"
      ]
    },
    {
      "cell_type": "code",
      "execution_count": null,
      "metadata": {
        "colab": {
          "base_uri": "https://localhost:8080/",
          "height": 1000
        },
        "id": "9EWYO-cYt8hY",
        "outputId": "33e5bd5c-cc6e-4388-adaf-10be73e58b27"
      },
      "outputs": [
        {
          "name": "stdout",
          "output_type": "stream",
          "text": [
            "\n",
            "*** Histogram Plot ***\n"
          ]
        },
        {
          "data": {
            "image/png": "[encoded data removed]",
            "text/plain": [
              "<Figure size 432x288 with 1 Axes>"
            ]
          },
          "metadata": {},
          "output_type": "display_data"
        },
        {
          "data": {
            "image/png": "[encoded data removed]",
            "text/plain": [
              "<Figure size 432x288 with 1 Axes>"
            ]
          },
          "metadata": {},
          "output_type": "display_data"
        },
        {
          "data": {
            "image/png": "[encoded data removed]",
            "text/plain": [
              "<Figure size 432x288 with 1 Axes>"
            ]
          },
          "metadata": {},
          "output_type": "display_data"
        },
        {
          "data": {
            "image/png": "[encoded data removed]",
            "text/plain": [
              "<Figure size 432x288 with 1 Axes>"
            ]
          },
          "metadata": {},
          "output_type": "display_data"
        },
        {
          "data": {
            "image/png": "[encoded data removed]",
            "text/plain": [
              "<Figure size 432x288 with 1 Axes>"
            ]
          },
          "metadata": {},
          "output_type": "display_data"
        }
      ],
      "source": [
        "# histograms\n",
        "# plot histograms\n",
        "print(\"\\n*** Histogram Plot ***\")\n",
        "colNames = df.columns.tolist()\n",
        "colNames.remove(clsVars)\n",
        "for colName in colNames:\n",
        "    colValues = df[colName].values\n",
        "    plt.figure()\n",
        "    sns.distplot(colValues, bins=7, kde=False, color='b')\n",
        "    plt.title(colName)\n",
        "    plt.ylabel(colName)\n",
        "    plt.xlabel('Bins')\n",
        "    plt.show()\n",
        "    "
      ]
    },
    {
      "cell_type": "code",
      "execution_count": null,
      "metadata": {
        "colab": {
          "base_uri": "https://localhost:8080/",
          "height": 333
        },
        "id": "xQKfMUXqt8ln",
        "outputId": "404fb57d-3ffe-4b3f-ed78-8e59d3808e2e"
      },
      "outputs": [
        {
          "name": "stdout",
          "output_type": "stream",
          "text": [
            "\n",
            "*** Distribution Plot ***\n"
          ]
        },
        {
          "data": {
            "image/png": "[encoded data removed]",
            "text/plain": [
              "<Figure size 432x288 with 1 Axes>"
            ]
          },
          "metadata": {},
          "output_type": "display_data"
        }
      ],
      "source": [
        "# class count plot\n",
        "# change as required\n",
        "vMaxCats = 10\n",
        "colNames = df.columns.tolist()\n",
        "colNames.remove(clsVars)\n",
        "print(\"\\n*** Distribution Plot ***\")\n",
        "bFlag = False\n",
        "for colName in colNames:\n",
        "    if len(df[colName].unique()) > vMaxCats:\n",
        "        continue\n",
        "    plt.figure()\n",
        "    sns.countplot(df[colName],label=\"Count\")\n",
        "    plt.title(colName)\n",
        "    plt.show()\n",
        "    bFlag = True\n",
        "if bFlag==False:\n",
        "    print(\"No Categoric Variables Found\")"
      ]
    },
    {
      "cell_type": "code",
      "execution_count": null,
      "metadata": {
        "colab": {
          "base_uri": "https://localhost:8080/",
          "height": 452
        },
        "id": "_c-TjWOft8n7",
        "outputId": "cd30146a-09b7-489e-ac17-ee2de6b676fe"
      },
      "outputs": [
        {
          "name": "stdout",
          "output_type": "stream",
          "text": [
            "\n",
            "*** Group Counts ***\n",
            "isFraud\n",
            "0    6354407\n",
            "1       8213\n",
            "dtype: int64\n",
            "\n",
            "\n",
            "*** Distribution Plot ***\n"
          ]
        },
        {
          "data": {
            "image/png": "[encoded data removed]",
            "text/plain": [
              "<Figure size 432x288 with 1 Axes>"
            ]
          },
          "metadata": {},
          "output_type": "display_data"
        }
      ],
      "source": [
        "# check class\n",
        "# outcome groupby count    \n",
        "print(\"\\n*** Group Counts ***\")\n",
        "print(df.groupby(clsVars).size())\n",
        "print(\"\")\n",
        "\n",
        "# class count plot\n",
        "print(\"\\n*** Distribution Plot ***\")\n",
        "plt.figure()\n",
        "sns.countplot(df[clsVars],label=\"Count\")\n",
        "plt.title('Class Variable')\n",
        "plt.show()\n"
      ]
    },
    {
      "cell_type": "code",
      "execution_count": null,
      "metadata": {
        "colab": {
          "base_uri": "https://localhost:8080/",
          "height": 333
        },
        "id": "Vt18a3UPt8p_",
        "outputId": "a3a26fed-a5f3-499b-eadd-be2db7688d17"
      },
      "outputs": [
        {
          "name": "stdout",
          "output_type": "stream",
          "text": [
            "\n",
            "*** Distribution Plot ***\n"
          ]
        },
        {
          "data": {
            "image/png": "[encoded data removed]",
            "text/plain": [
              "<Figure size 432x288 with 1 Axes>"
            ]
          },
          "metadata": {},
          "output_type": "display_data"
        }
      ],
      "source": [
        "\n",
        "# class count plot\n",
        "print(\"\\n*** Distribution Plot ***\")\n",
        "plt.figure()\n",
        "sns.countplot(df[clsVars],label=\"Count\")\n",
        "plt.title('Class Variable')\n",
        "plt.show()\n"
      ]
    },
    {
      "cell_type": "code",
      "execution_count": null,
      "metadata": {
        "colab": {
          "base_uri": "https://localhost:8080/"
        },
        "id": "AuKdRTLnt8sW",
        "outputId": "d4b37520-fef5-4b6b-b9fc-60c9f479d0b7"
      },
      "outputs": [
        {
          "name": "stdout",
          "output_type": "stream",
          "text": [
            "\n",
            "*** Prepare Data ***\n",
            "['step', 'type', 'amount', 'oldbalanceOrg', 'newbalanceDest', 'isFraud']\n",
            "['step', 'type', 'amount', 'oldbalanceOrg', 'newbalanceDest']\n"
          ]
        }
      ],
      "source": [
        "\n",
        "################################\n",
        "# Classification \n",
        "# set X & y\n",
        "###############################\n",
        "\n",
        "# split into data & target\n",
        "print(\"\\n*** Prepare Data ***\")\n",
        "allCols = df.columns.tolist()\n",
        "print(allCols)\n",
        "allCols.remove(clsVars)\n",
        "print(allCols)\n",
        "X = df[allCols].values\n",
        "y = df[clsVars].values\n"
      ]
    },
    {
      "cell_type": "code",
      "execution_count": null,
      "metadata": {
        "colab": {
          "base_uri": "https://localhost:8080/"
        },
        "id": "SsOc0R9Mt8vt",
        "outputId": "ccb697a5-30cd-48f9-ffb4-24d3661c2700"
      },
      "outputs": [
        {
          "name": "stdout",
          "output_type": "stream",
          "text": [
            "\n",
            "*** Prepare Data - Shape ***\n",
            "(6362620, 5)\n",
            "(6362620,)\n",
            "<class 'numpy.ndarray'>\n",
            "<class 'numpy.ndarray'>\n"
          ]
        }
      ],
      "source": [
        "# shape\n",
        "print(\"\\n*** Prepare Data - Shape ***\")\n",
        "print(X.shape)\n",
        "print(y.shape)\n",
        "print(type(X))\n",
        "print(type(y))"
      ]
    },
    {
      "cell_type": "code",
      "execution_count": null,
      "metadata": {
        "colab": {
          "base_uri": "https://localhost:8080/"
        },
        "id": "rLXGadvct8yU",
        "outputId": "7a37ed1c-e67e-4148-aa30-197a3e8dc6da"
      },
      "outputs": [
        {
          "name": "stdout",
          "output_type": "stream",
          "text": [
            "\n",
            "*** Prepare Data - Head ***\n",
            "[[0.000e+00 6.667e-01 1.238e-02 3.963e-01 3.145e-01]\n",
            " [0.000e+00 6.667e-01 2.346e-03 4.950e-02 3.145e-01]\n",
            " [0.000e+00 1.000e+00 2.277e-04 4.215e-04 3.145e-01]\n",
            " [0.000e+00 0.000e+00 2.277e-04 4.215e-04 3.145e-01]]\n",
            "[0 0 1 1]\n"
          ]
        }
      ],
      "source": [
        "\n",
        "# head\n",
        "print(\"\\n*** Prepare Data - Head ***\")\n",
        "print(X[0:4])\n",
        "print(y[0:4])\n"
      ]
    },
    {
      "cell_type": "code",
      "execution_count": null,
      "metadata": {
        "colab": {
          "base_uri": "https://localhost:8080/"
        },
        "id": "lG4biRICt87b",
        "outputId": "67bf1024-e816-4f1e-8697-66194272403f"
      },
      "outputs": [
        {
          "name": "stdout",
          "output_type": "stream",
          "text": [
            "\n",
            "*** Counts ***\n",
            "isFraud\n",
            "0    6354407\n",
            "1       8213\n",
            "dtype: int64\n"
          ]
        }
      ],
      "source": [
        "# counts\n",
        "print(\"\\n*** Counts ***\")\n",
        "print(df.groupby(df[clsVars]).size())\n"
      ]
    },
    {
      "cell_type": "code",
      "execution_count": null,
      "metadata": {
        "colab": {
          "base_uri": "https://localhost:8080/"
        },
        "id": "uXzHNydLtTIs",
        "outputId": "3a843c13-1e4f-4833-d6b7-de3b45bb025e"
      },
      "outputs": [
        {
          "name": "stdout",
          "output_type": "stream",
          "text": [
            "\n",
            "*** Over Sampling Process ***\n",
            "Done ...\n"
          ]
        }
      ],
      "source": [
        "# over sampling\n",
        "print(\"\\n*** Over Sampling Process ***\")\n",
        "X, y = utils.getOverSamplerData(X, y)\n",
        "print(\"Done ...\")"
      ]
    },
    {
      "cell_type": "code",
      "execution_count": null,
      "metadata": {
        "colab": {
          "base_uri": "https://localhost:8080/"
        },
        "id": "oYDUZZO6tTLD",
        "outputId": "5cba7838-6261-420a-e1ce-4eb40d19fde2"
      },
      "outputs": [
        {
          "name": "stdout",
          "output_type": "stream",
          "text": [
            "\n",
            "*** Counts ***\n",
            "[[      0       1]\n",
            " [6354407 6354407]]\n"
          ]
        }
      ],
      "source": [
        "# counts\n",
        "print(\"\\n*** Counts ***\")\n",
        "unique_elements, counts_elements = np.unique(y, return_counts=True)\n",
        "print(np.asarray((unique_elements, counts_elements)))\n"
      ]
    },
    {
      "cell_type": "code",
      "execution_count": null,
      "metadata": {
        "colab": {
          "base_uri": "https://localhost:8080/"
        },
        "id": "GirAL6nDtTQU",
        "outputId": "ab55fae3-ff2e-4977-8689-47bd58255bcd"
      },
      "outputs": [
        {
          "name": "stdout",
          "output_type": "stream",
          "text": [
            "\n",
            "*** Prepare Data - Shape ***\n",
            "(12708814, 5)\n",
            "(12708814,)\n",
            "<class 'numpy.ndarray'>\n",
            "<class 'numpy.ndarray'>\n"
          ]
        }
      ],
      "source": [
        "# shape\n",
        "print(\"\\n*** Prepare Data - Shape ***\")\n",
        "print(X.shape)\n",
        "print(y.shape)\n",
        "print(type(X))\n",
        "print(type(y))"
      ]
    },
    {
      "cell_type": "code",
      "execution_count": null,
      "metadata": {
        "colab": {
          "base_uri": "https://localhost:8080/"
        },
        "id": "ZtMoyH3ftTYW",
        "outputId": "4f725873-d244-4aa7-98c7-0586d24a10e2"
      },
      "outputs": [
        {
          "name": "stdout",
          "output_type": "stream",
          "text": [
            "\n",
            "*** Importing Models ***\n",
            "Done ...\n"
          ]
        }
      ],
      "source": [
        "################################\n",
        "# Classification - init models\n",
        "###############################\n",
        "\n",
        "# original\n",
        "# import all model & metrics\n",
        "print(\"\\n*** Importing Models ***\")\n",
        "# from sklearn.metrics import accuracy_score\n",
        "# from sklearn.metrics import confusion_matrix\n",
        "# from sklearn.metrics import classification_report\n",
        "# https://scikit-learn.org/stable/modules/generated/sklearn.svm.SVC.html\n",
        "from sklearn.svm import SVC\n",
        "# https://scikit-learn.org/stable/modules/generated/sklearn.ensemble.RandomForestClassifier.html\n",
        "from sklearn.ensemble import RandomForestClassifier\n",
        "# https://scikit-learn.org/stable/modules/generated/sklearn.neighbors.KNeighborsClassifier.html\n",
        "from sklearn.neighbors import KNeighborsClassifier\n",
        "# https://scikit-learn.org/stable/modules/generated/sklearn.linear_model.LogisticRegression.html\n",
        "from sklearn.linear_model import LogisticRegression\n",
        "# https://scikit-learn.org/stable/modules/generated/sklearn.tree.DecisionTreeClassifier.html\n",
        "from sklearn.tree import DecisionTreeClassifier\n",
        "# https://scikit-learn.org/stable/modules/generated/sklearn.naive_bayes.GaussianNB.html\n",
        "from sklearn.naive_bayes import GaussianNB\n",
        "print(\"Done ...\")"
      ]
    },
    {
      "cell_type": "code",
      "execution_count": null,
      "metadata": {
        "colab": {
          "base_uri": "https://localhost:8080/"
        },
        "id": "Sq7RUrootTbf",
        "outputId": "f59d27a2-b05a-4a15-f265-81d93dec705e"
      },
      "outputs": [
        {
          "name": "stdout",
          "output_type": "stream",
          "text": [
            "\n",
            "*** Creating Models ***\n",
            "('SVM-Clf', SVC(random_state=707))\n",
            "('RndFrst', RandomForestClassifier(random_state=707))\n",
            "('KNN-Clf', KNeighborsClassifier())\n",
            "('LogRegr', LogisticRegression(random_state=707))\n",
            "('DecTree', DecisionTreeClassifier(random_state=707))\n",
            "('GNBayes', GaussianNB())\n",
            "Done ...\n"
          ]
        }
      ],
      "source": [
        "# create a list of models so that we can use the models in an iterstive manner\n",
        "print(\"\\n*** Creating Models ***\")\n",
        "lModels = []\n",
        "lModels.append(('SVM-Clf', SVC(random_state=707)))\n",
        "lModels.append(('RndFrst', RandomForestClassifier(random_state=707)))\n",
        "lModels.append(('KNN-Clf', KNeighborsClassifier()))\n",
        "lModels.append(('LogRegr', LogisticRegression(random_state=707)))\n",
        "lModels.append(('DecTree', DecisionTreeClassifier(random_state=707)))\n",
        "lModels.append(('GNBayes', GaussianNB()))\n",
        "for vModel in lModels:\n",
        "    print(vModel)\n",
        "print(\"Done ...\")\n"
      ]
    },
    {
      "cell_type": "code",
      "execution_count": null,
      "metadata": {
        "colab": {
          "base_uri": "https://localhost:8080/"
        },
        "id": "bBHkMnoJtTeD",
        "outputId": "f9c5829f-449c-4ecf-8b0c-974766cae0b6"
      },
      "outputs": [
        {
          "name": "stdout",
          "output_type": "stream",
          "text": [
            "\n",
            "*** Cross Validation Init ***\n",
            "Done ...\n"
          ]
        }
      ],
      "source": [
        "\n",
        "################################\n",
        "# Classification - cross validation\n",
        "###############################\n",
        "\n",
        "# blank list to store results\n",
        "print(\"\\n*** Cross Validation Init ***\")\n",
        "xvModNames = []\n",
        "xvAccuracy = []\n",
        "xvSDScores = []\n",
        "print(\"Done ...\")\n",
        "\n",
        "# cross validation\n",
        "from sklearn import model_selection\n",
        "#print(\"\\n*** Cross Validation ***\")\n",
        "# iterate through the lModels\n",
        "for vModelName, oModelObj in lModels:\n",
        "    # select xv folds\n",
        "    kfold = model_selection.KFold(n_splits=5, shuffle=True, random_state=707)\n",
        "    # actual corss validation\n",
        "    cvAccuracy = model_selection.cross_val_score(oModelObj, X, y, cv=kfold, scoring='accuracy')\n",
        "    # prints result of cross val ... scores count = lfold splits\n",
        "    print(vModelName,\":  \",cvAccuracy)\n",
        "    # update lists for future use\n",
        "    xvModNames.append(vModelName)\n",
        "    xvAccuracy.append(cvAccuracy.mean())\n",
        "    xvSDScores.append(cvAccuracy.std())\n",
        "    "
      ]
    },
    {
      "cell_type": "code",
      "execution_count": null,
      "metadata": {
        "colab": {
          "background_save": true
        },
        "id": "GgrbpIJytTjE",
        "outputId": "a4f15b76-2515-458f-b33d-d9f4eae64ee8"
      },
      "outputs": [
        {
          "ename": "IndentationError",
          "evalue": "ignored",
          "output_type": "error",
          "traceback": [
            "\u001b[0;36m  File \u001b[0;32m\"<ipython-input-1-e7e11a0c133c>\"\u001b[0;36m, line \u001b[0;32m10\u001b[0m\n\u001b[0;31m    msg = \"%10s: %5.7f %5.7f\" % (xvModNames[i], xvAccuracy[i], xvSDScores[i])\u001b[0m\n\u001b[0m      ^\u001b[0m\n\u001b[0;31mIndentationError\u001b[0m\u001b[0;31m:\u001b[0m expected an indented block\n"
          ]
        }
      ],
      "source": [
        "    \n",
        "# cross val summary\n",
        "print(\"\\n*** Cross Validation Summary ***\")\n",
        "# header\n",
        "msg = \"%10s: %10s %8s\" % (\"Model   \", \"xvAccuracy\", \"xvStdDev\")\n",
        "print(msg)\n",
        "# for each model\n",
        "for i in range(0,len(lModels)):\n",
        "    # print accuracy mean & std\n",
        "    msg = \"%10s: %5.7f %5.7f\" % (xvModNames[i], xvAccuracy[i], xvSDScores[i])\n",
        "    print(msg)\n"
      ]
    },
    {
      "cell_type": "code",
      "execution_count": null,
      "metadata": {
        "id": "EwD4cGuxtTm6"
      },
      "outputs": [],
      "source": [
        "# find model with best xv accuracy & print details\n",
        "print(\"\\n*** Best XV Accuracy Model ***\")\n",
        "xvIndex = xvAccuracy.index(max(xvAccuracy))\n",
        "print(\"Index      : \",xvIndex)\n",
        "print(\"Model Name : \",xvModNames[xvIndex])\n",
        "print(\"XVAccuracy : \",xvAccuracy[xvIndex])\n",
        "print(\"XVStdDev   : \",xvSDScores[xvIndex])\n",
        "print(\"Model      : \",lModels[xvIndex])"
      ]
    },
    {
      "cell_type": "code",
      "execution_count": null,
      "metadata": {
        "id": "jvNN5-BLtGkQ"
      },
      "outputs": [],
      "source": [
        "\n",
        "################################\n",
        "# Classification \n",
        "# Split Train & Test\n",
        "###############################\n",
        "\n",
        "# imports\n",
        "from sklearn.model_selection import train_test_split\n",
        "\n",
        "# split into train and test"
      ]
    },
    {
      "cell_type": "code",
      "execution_count": null,
      "metadata": {
        "id": "obEGTjvJtGo_"
      },
      "outputs": [],
      "source": [
        "# split into train and test\n",
        "X_train, X_test, y_train, y_test = train_test_split(X, y, stratify=y,\n",
        "                                test_size=0.2, random_state=707)"
      ]
    },
    {
      "cell_type": "code",
      "execution_count": null,
      "metadata": {
        "id": "wgXNZBV8tGrj"
      },
      "outputs": [],
      "source": [
        "\n",
        "# shapes\n",
        "print(\"\\n*** Train & Test Data ***\")\n",
        "print(X_train.shape)\n",
        "print(y_train.shape)\n",
        "print(X_test.shape)\n",
        "print(y_test.shape)"
      ]
    },
    {
      "cell_type": "code",
      "execution_count": null,
      "metadata": {
        "id": "A8D3DkAdtGt7"
      },
      "outputs": [],
      "source": [
        "\n",
        "# counts\n",
        "unique_elements, counts_elements = np.unique(y_train, return_counts=True)\n",
        "print(\"\\n*** Frequency of unique values of Train Data ***\")\n",
        "print(np.asarray((unique_elements, counts_elements)))"
      ]
    },
    {
      "cell_type": "code",
      "execution_count": null,
      "metadata": {
        "id": "N0nKIqzVtGyI"
      },
      "outputs": [],
      "source": [
        "\n",
        "# counts\n",
        "unique_elements, counts_elements = np.unique(y_test, return_counts=True)\n",
        "print(\"\\n*** Frequency of unique values of Test Data ***\")\n",
        "print(np.asarray((unique_elements, counts_elements)))"
      ]
    },
    {
      "cell_type": "code",
      "execution_count": null,
      "metadata": {
        "id": "bV4eR4-ytG07"
      },
      "outputs": [],
      "source": [
        "\n",
        "################################\n",
        "# Classification- Create Model\n",
        "###############################\n",
        "\n",
        "print(\"\\n*** Accuracy & Models ***\")\n",
        "print(\"Cross Validation\")\n",
        "print(\"Accuracy:\", xvAccuracy[xvIndex])\n",
        "print(\"Model   :\", lModels[xvIndex]) "
      ]
    },
    {
      "cell_type": "code",
      "execution_count": null,
      "metadata": {
        "id": "VLcKMuLUtG5Y"
      },
      "outputs": [],
      "source": [
        "\n",
        "# classifier object\n",
        "# select model with best acc\n",
        "print(\"\\n*** Classfier Object ***\")\n",
        "model = lModels[xvIndex][1]\n",
        "print(model)\n",
        "# fit the model\n",
        "model.fit(X_train,y_train)\n",
        "print(\"Done ...\")"
      ]
    },
    {
      "cell_type": "code",
      "execution_count": null,
      "metadata": {
        "id": "XoqpZmemtCGl"
      },
      "outputs": [],
      "source": [
        "\n",
        "################################\n",
        "# Classification  - Predict Test\n",
        "# evaluate : Accuracy & Confusion Metrics\n",
        "###############################\n",
        "\n",
        "# classifier object\n",
        "print(\"\\n*** Predict Test ***\")\n",
        "# predicting the Test set results\n",
        "p_test = model.predict(X_test)            # use model ... predict\n",
        "print(\"Done ...\")"
      ]
    },
    {
      "cell_type": "code",
      "execution_count": null,
      "metadata": {
        "id": "FKEUekdUtCII"
      },
      "outputs": [],
      "source": [
        "# accuracy\n",
        "from sklearn.metrics import accuracy_score\n",
        "print(\"\\n*** Accuracy ***\")\n",
        "accuracy = accuracy_score(y_test, p_test)*100\n",
        "print(accuracy)"
      ]
    },
    {
      "cell_type": "code",
      "execution_count": null,
      "metadata": {
        "id": "Zlp1_A30tCKO"
      },
      "outputs": [],
      "source": [
        "\n",
        "# confusion matrix\n",
        "# X-axis Actual | Y-axis Actual - to see how cm of original is\n",
        "from sklearn.metrics import confusion_matrix\n",
        "print(\"\\n*** Confusion Matrix - Original ***\")\n",
        "cm = confusion_matrix(y_test, y_test)\n",
        "print(cm)"
      ]
    },
    {
      "cell_type": "code",
      "execution_count": null,
      "metadata": {
        "id": "ak_FhJ4itCMT"
      },
      "outputs": [],
      "source": [
        "# confusion matrix\n",
        "# X-axis Predicted | Y-axis Actual\n",
        "print(\"\\n*** Confusion Matrix - Predicted ***\")\n",
        "cm = confusion_matrix(y_test, p_test)\n",
        "print(cm)\n"
      ]
    },
    {
      "cell_type": "code",
      "execution_count": null,
      "metadata": {
        "id": "067ZXEqDtCOZ"
      },
      "outputs": [],
      "source": [
        "# classification report\n",
        "from sklearn.metrics import classification_report\n",
        "print(\"\\n*** Classification Report ***\")\n",
        "cr = classification_report(y_test,p_test)\n",
        "print(cr)"
      ]
    },
    {
      "cell_type": "code",
      "execution_count": null,
      "metadata": {
        "id": "DNZlmBeUtCQx"
      },
      "outputs": [],
      "source": [
        "\n",
        "# make dftest\n",
        "# only for show\n",
        "# not to be done in production\n",
        "print(\"\\n*** Recreate Test ***\")\n",
        "dfTest =  pd.DataFrame(data = X_test)\n",
        "dfTest.columns = allCols\n",
        "dfTest[clsVars] = y_test\n",
        "dfTest['Predict'] = p_test\n",
        "# dfTest[clsVars] = le.inverse_transform(dfTest[clsVars])\n",
        "# dfTest['Predict'] = le.inverse_transform(dfTest['Predict'])\n",
        "print(\"Done ...\")"
      ]
    },
    {
      "cell_type": "code",
      "execution_count": null,
      "metadata": {
        "id": "wEA7rDugtCVf"
      },
      "outputs": [],
      "source": [
        "\n",
        "################################\n",
        "# Final Prediction\n",
        "# Create model Object from whole data\n",
        "# Read .prd file\n",
        "# Predict Species\n",
        "# Confusion matrix with data in .prd file\n",
        "###############################"
      ]
    },
    {
      "cell_type": "code",
      "execution_count": null,
      "metadata": {
        "id": "jzS-K7_ZtCYC"
      },
      "outputs": [],
      "source": [
        "# classifier object\n",
        "print(\"\\n*** Classfier Object ***\")\n",
        "model = lModels[xvIndex][1]\n",
        "print(model)\n",
        "# fit / train the model\n",
        "model.fit(X,y)\n",
        "print(\"Done ...\")\n"
      ]
    },
    {
      "cell_type": "code",
      "execution_count": null,
      "metadata": {
        "id": "Oi_M7uZFtCaY"
      },
      "outputs": [],
      "source": [
        ""
      ]
    }
  ],
  "metadata": {
    "colab": {
      "name": "fraud.ipynb",
      "provenance": [],
      "mount_file_id": "1fgl1XjtskXeWEYymb4R_m5zWd8fVWwBv",
      "authorship_tag": "ABX9TyMlcqEyjb7HIP6RC+iSgXWW",
      "include_colab_link": true
    },
    "kernelspec": {
      "display_name": "Python 3",
      "name": "python3"
    },
    "language_info": {
      "name": "python"
    }
  },
  "nbformat": 4,
  "nbformat_minor": 0
}